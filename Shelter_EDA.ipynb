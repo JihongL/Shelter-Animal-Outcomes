{
 "cells": [
  {
   "cell_type": "code",
   "execution_count": 1,
   "metadata": {
    "collapsed": true
   },
   "outputs": [],
   "source": [
    "import pandas as pd\n",
    "import numpy as np\n",
    "import matplotlib.pyplot as plt\n",
    "import seaborn as sns\n",
    "from pandas import DataFrame, Series\n",
    "%matplotlib inline"
   ]
  },
  {
   "cell_type": "code",
   "execution_count": 2,
   "metadata": {
    "collapsed": true
   },
   "outputs": [],
   "source": [
    "df = pd.read_csv('data/train.csv')\n",
    "test = pd.read_csv('data/test.csv')\n",
    "sample = pd.read_csv('data/sample_submission.csv')"
   ]
  },
  {
   "cell_type": "markdown",
   "metadata": {},
   "source": [
    "## train data 형태 확인"
   ]
  },
  {
   "cell_type": "code",
   "execution_count": 3,
   "metadata": {
    "scrolled": true
   },
   "outputs": [
    {
     "data": {
      "text/plain": [
       "AnimalID                        A671945\n",
       "Name                            Hambone\n",
       "DateTime            2014-02-12 18:22:00\n",
       "OutcomeType             Return_to_owner\n",
       "OutcomeSubtype                      NaN\n",
       "AnimalType                          Dog\n",
       "SexuponOutcome            Neutered Male\n",
       "AgeuponOutcome                   1 year\n",
       "Breed             Shetland Sheepdog Mix\n",
       "Color                       Brown/White\n",
       "Name: 0, dtype: object"
      ]
     },
     "execution_count": 3,
     "metadata": {},
     "output_type": "execute_result"
    }
   ],
   "source": [
    "df.loc[0]"
   ]
  },
  {
   "cell_type": "code",
   "execution_count": 4,
   "metadata": {},
   "outputs": [
    {
     "data": {
      "text/html": [
       "<div>\n",
       "<style>\n",
       "    .dataframe thead tr:only-child th {\n",
       "        text-align: right;\n",
       "    }\n",
       "\n",
       "    .dataframe thead th {\n",
       "        text-align: left;\n",
       "    }\n",
       "\n",
       "    .dataframe tbody tr th {\n",
       "        vertical-align: top;\n",
       "    }\n",
       "</style>\n",
       "<table border=\"1\" class=\"dataframe\">\n",
       "  <thead>\n",
       "    <tr style=\"text-align: right;\">\n",
       "      <th></th>\n",
       "      <th>AnimalID</th>\n",
       "      <th>Name</th>\n",
       "      <th>DateTime</th>\n",
       "      <th>OutcomeType</th>\n",
       "      <th>OutcomeSubtype</th>\n",
       "      <th>AnimalType</th>\n",
       "      <th>SexuponOutcome</th>\n",
       "      <th>AgeuponOutcome</th>\n",
       "      <th>Breed</th>\n",
       "      <th>Color</th>\n",
       "    </tr>\n",
       "  </thead>\n",
       "  <tbody>\n",
       "    <tr>\n",
       "      <th>26724</th>\n",
       "      <td>A702446</td>\n",
       "      <td>NaN</td>\n",
       "      <td>2015-05-14 11:56:00</td>\n",
       "      <td>Transfer</td>\n",
       "      <td>Partner</td>\n",
       "      <td>Cat</td>\n",
       "      <td>Intact Male</td>\n",
       "      <td>1 month</td>\n",
       "      <td>Domestic Shorthair Mix</td>\n",
       "      <td>Brown Tabby/White</td>\n",
       "    </tr>\n",
       "    <tr>\n",
       "      <th>26725</th>\n",
       "      <td>A718934</td>\n",
       "      <td>NaN</td>\n",
       "      <td>2016-01-20 18:59:00</td>\n",
       "      <td>Transfer</td>\n",
       "      <td>SCRP</td>\n",
       "      <td>Cat</td>\n",
       "      <td>Spayed Female</td>\n",
       "      <td>3 months</td>\n",
       "      <td>Domestic Shorthair Mix</td>\n",
       "      <td>Brown Tabby</td>\n",
       "    </tr>\n",
       "    <tr>\n",
       "      <th>26726</th>\n",
       "      <td>A698128</td>\n",
       "      <td>Zeus</td>\n",
       "      <td>2015-03-09 13:33:00</td>\n",
       "      <td>Adoption</td>\n",
       "      <td>NaN</td>\n",
       "      <td>Dog</td>\n",
       "      <td>Neutered Male</td>\n",
       "      <td>4 years</td>\n",
       "      <td>Old English Bulldog Mix</td>\n",
       "      <td>White/Tan</td>\n",
       "    </tr>\n",
       "    <tr>\n",
       "      <th>26727</th>\n",
       "      <td>A677478</td>\n",
       "      <td>NaN</td>\n",
       "      <td>2014-04-27 12:22:00</td>\n",
       "      <td>Transfer</td>\n",
       "      <td>Partner</td>\n",
       "      <td>Cat</td>\n",
       "      <td>Intact Male</td>\n",
       "      <td>4 weeks</td>\n",
       "      <td>Domestic Shorthair Mix</td>\n",
       "      <td>Black</td>\n",
       "    </tr>\n",
       "    <tr>\n",
       "      <th>26728</th>\n",
       "      <td>A706629</td>\n",
       "      <td>NaN</td>\n",
       "      <td>2015-07-02 09:00:00</td>\n",
       "      <td>Transfer</td>\n",
       "      <td>SCRP</td>\n",
       "      <td>Cat</td>\n",
       "      <td>Intact Male</td>\n",
       "      <td>1 year</td>\n",
       "      <td>Domestic Shorthair Mix</td>\n",
       "      <td>Brown Tabby/White</td>\n",
       "    </tr>\n",
       "  </tbody>\n",
       "</table>\n",
       "</div>"
      ],
      "text/plain": [
       "      AnimalID  Name             DateTime OutcomeType OutcomeSubtype  \\\n",
       "26724  A702446   NaN  2015-05-14 11:56:00    Transfer        Partner   \n",
       "26725  A718934   NaN  2016-01-20 18:59:00    Transfer           SCRP   \n",
       "26726  A698128  Zeus  2015-03-09 13:33:00    Adoption            NaN   \n",
       "26727  A677478   NaN  2014-04-27 12:22:00    Transfer        Partner   \n",
       "26728  A706629   NaN  2015-07-02 09:00:00    Transfer           SCRP   \n",
       "\n",
       "      AnimalType SexuponOutcome AgeuponOutcome                    Breed  \\\n",
       "26724        Cat    Intact Male        1 month   Domestic Shorthair Mix   \n",
       "26725        Cat  Spayed Female       3 months   Domestic Shorthair Mix   \n",
       "26726        Dog  Neutered Male        4 years  Old English Bulldog Mix   \n",
       "26727        Cat    Intact Male        4 weeks   Domestic Shorthair Mix   \n",
       "26728        Cat    Intact Male         1 year   Domestic Shorthair Mix   \n",
       "\n",
       "                   Color  \n",
       "26724  Brown Tabby/White  \n",
       "26725        Brown Tabby  \n",
       "26726          White/Tan  \n",
       "26727              Black  \n",
       "26728  Brown Tabby/White  "
      ]
     },
     "execution_count": 4,
     "metadata": {},
     "output_type": "execute_result"
    }
   ],
   "source": [
    "df.tail()"
   ]
  },
  {
   "cell_type": "code",
   "execution_count": 5,
   "metadata": {},
   "outputs": [
    {
     "data": {
      "text/plain": [
       "Adoption           10769\n",
       "Transfer            9422\n",
       "Return_to_owner     4786\n",
       "Euthanasia          1555\n",
       "Died                 197\n",
       "Name: OutcomeType, dtype: int64"
      ]
     },
     "execution_count": 5,
     "metadata": {},
     "output_type": "execute_result"
    }
   ],
   "source": [
    "df['OutcomeType'].value_counts()"
   ]
  },
  {
   "cell_type": "code",
   "execution_count": 6,
   "metadata": {},
   "outputs": [
    {
     "data": {
      "text/plain": [
       "Partner                7816\n",
       "Foster                 1800\n",
       "SCRP                   1599\n",
       "Suffering              1002\n",
       "Aggressive              320\n",
       "Offsite                 165\n",
       "In Kennel               114\n",
       "Behavior                 86\n",
       "Rabies Risk              74\n",
       "Medical                  66\n",
       "In Foster                52\n",
       "Enroute                   8\n",
       "Court/Investigation       6\n",
       "At Vet                    4\n",
       "In Surgery                3\n",
       "Barn                      2\n",
       "Name: OutcomeSubtype, dtype: int64"
      ]
     },
     "execution_count": 6,
     "metadata": {},
     "output_type": "execute_result"
    }
   ],
   "source": [
    "df['OutcomeSubtype'].value_counts()"
   ]
  },
  {
   "cell_type": "code",
   "execution_count": 7,
   "metadata": {},
   "outputs": [
    {
     "data": {
      "text/plain": [
       "Dog    15595\n",
       "Cat    11134\n",
       "Name: AnimalType, dtype: int64"
      ]
     },
     "execution_count": 7,
     "metadata": {},
     "output_type": "execute_result"
    }
   ],
   "source": [
    "df['AnimalType'].value_counts()"
   ]
  },
  {
   "cell_type": "code",
   "execution_count": 8,
   "metadata": {},
   "outputs": [
    {
     "data": {
      "text/plain": [
       "Neutered Male    9779\n",
       "Spayed Female    8820\n",
       "Intact Male      3525\n",
       "Intact Female    3511\n",
       "Unknown          1093\n",
       "Name: SexuponOutcome, dtype: int64"
      ]
     },
     "execution_count": 8,
     "metadata": {},
     "output_type": "execute_result"
    }
   ],
   "source": [
    "df['SexuponOutcome'].value_counts()"
   ]
  },
  {
   "cell_type": "code",
   "execution_count": 9,
   "metadata": {},
   "outputs": [
    {
     "data": {
      "text/plain": [
       "1 year       3969\n",
       "2 years      3742\n",
       "2 months     3397\n",
       "3 years      1823\n",
       "1 month      1281\n",
       "3 months     1277\n",
       "4 years      1071\n",
       "5 years       992\n",
       "4 months      888\n",
       "6 years       670\n",
       "3 weeks       659\n",
       "5 months      652\n",
       "6 months      588\n",
       "8 years       536\n",
       "7 years       531\n",
       "2 weeks       529\n",
       "10 months     457\n",
       "10 years      446\n",
       "8 months      402\n",
       "4 weeks       334\n",
       "9 years       288\n",
       "7 months      288\n",
       "12 years      234\n",
       "9 months      224\n",
       "1 weeks       171\n",
       "11 months     166\n",
       "1 week        146\n",
       "13 years      143\n",
       "11 years      126\n",
       "3 days        109\n",
       "2 days         99\n",
       "14 years       97\n",
       "15 years       85\n",
       "1 day          66\n",
       "6 days         50\n",
       "4 days         50\n",
       "16 years       36\n",
       "5 days         24\n",
       "0 years        22\n",
       "17 years       17\n",
       "5 weeks        11\n",
       "18 years       10\n",
       "19 years        3\n",
       "20 years        2\n",
       "Name: AgeuponOutcome, dtype: int64"
      ]
     },
     "execution_count": 9,
     "metadata": {},
     "output_type": "execute_result"
    }
   ],
   "source": [
    "df['AgeuponOutcome'].value_counts()"
   ]
  },
  {
   "cell_type": "code",
   "execution_count": 10,
   "metadata": {},
   "outputs": [
    {
     "data": {
      "text/plain": [
       "Domestic Shorthair Mix                     8810\n",
       "Pit Bull Mix                               1906\n",
       "Chihuahua Shorthair Mix                    1766\n",
       "Labrador Retriever Mix                     1363\n",
       "Domestic Medium Hair Mix                    839\n",
       "German Shepherd Mix                         575\n",
       "Domestic Longhair Mix                       520\n",
       "Siamese Mix                                 389\n",
       "Australian Cattle Dog Mix                   367\n",
       "Dachshund Mix                               318\n",
       "Boxer Mix                                   245\n",
       "Miniature Poodle Mix                        233\n",
       "Border Collie Mix                           229\n",
       "Australian Shepherd Mix                     163\n",
       "Rat Terrier Mix                             157\n",
       "Catahoula Mix                               157\n",
       "Jack Russell Terrier Mix                    146\n",
       "Yorkshire Terrier Mix                       143\n",
       "Domestic Shorthair                          143\n",
       "Chihuahua Longhair Mix                      142\n",
       "Siberian Husky Mix                          138\n",
       "Miniature Schnauzer Mix                     136\n",
       "Beagle Mix                                  124\n",
       "Rottweiler Mix                              113\n",
       "American Bulldog Mix                        109\n",
       "Cairn Terrier Mix                           102\n",
       "Shih Tzu Mix                                100\n",
       "Chihuahua Shorthair/Dachshund                98\n",
       "Australian Kelpie Mix                        95\n",
       "Staffordshire Mix                            94\n",
       "                                           ... \n",
       "Blue Lacy/Collie Smooth                       1\n",
       "Border Collie/English Pointer                 1\n",
       "Bulldog/Pit Bull                              1\n",
       "Pekingese/Miniature Poodle                    1\n",
       "Chihuahua Shorthair/Finnish Spitz             1\n",
       "Bull Terrier/Jack Russell Terrier             1\n",
       "Dalmatian/Australian Cattle Dog               1\n",
       "Queensland Heeler/Chihuahua Shorthair         1\n",
       "Beagle/Jack Russell Terrier                   1\n",
       "Beagle/Boston Terrier                         1\n",
       "Keeshond                                      1\n",
       "Cardigan Welsh Corgi/English Setter           1\n",
       "Australian Cattle Dog/Queensland Heeler       1\n",
       "Maltese/Border Terrier                        1\n",
       "St. Bernard Rough Coat                        1\n",
       "Scottish Terrier/Miniature Poodle             1\n",
       "Border Terrier/Dachshund Wirehair             1\n",
       "Manx/Domestic Longhair                        1\n",
       "Boston Terrier/Pit Bull                       1\n",
       "German Shepherd/Great Dane                    1\n",
       "Bluetick Hound                                1\n",
       "Greyhound/Labrador Retriever                  1\n",
       "Collie Smooth/Siberian Husky                  1\n",
       "Dogue De Bordeaux/American Bulldog            1\n",
       "Golden Retriever/Great Pyrenees               1\n",
       "Norfolk Terrier/Dachshund                     1\n",
       "Golden Retriever/Whippet                      1\n",
       "Chihuahua Shorthair/Shetland Sheepdog         1\n",
       "Vizsla/Boxer                                  1\n",
       "Dachshund/Cavalier Span                       1\n",
       "Name: Breed, Length: 1380, dtype: int64"
      ]
     },
     "execution_count": 10,
     "metadata": {},
     "output_type": "execute_result"
    }
   ],
   "source": [
    "df['Breed'].value_counts()"
   ]
  },
  {
   "cell_type": "code",
   "execution_count": 11,
   "metadata": {},
   "outputs": [
    {
     "data": {
      "text/plain": [
       "Black/White                  2824\n",
       "Black                        2292\n",
       "Brown Tabby                  1635\n",
       "Brown Tabby/White             940\n",
       "White                         931\n",
       "Brown/White                   884\n",
       "Orange Tabby                  841\n",
       "Tan/White                     773\n",
       "Tricolor                      752\n",
       "Blue/White                    702\n",
       "Black/Tan                     672\n",
       "White/Black                   643\n",
       "Brown                         639\n",
       "Tan                           628\n",
       "White/Brown                   569\n",
       "Tortie                        530\n",
       "Calico                        517\n",
       "Orange Tabby/White            455\n",
       "Brown Brindle/White           450\n",
       "Blue                          450\n",
       "Black/Brown                   436\n",
       "Blue Tabby                    433\n",
       "White/Tan                     389\n",
       "Red                           337\n",
       "Torbie                        335\n",
       "Brown/Black                   333\n",
       "Red/White                     331\n",
       "Blue Tabby/White              241\n",
       "Brown Brindle                 232\n",
       "Chocolate/White               224\n",
       "                             ... \n",
       "Red/Gold                        1\n",
       "Lynx Point/Brown Tabby          1\n",
       "Liver Tick/White                1\n",
       "Brown Tabby/Brown               1\n",
       "Blue/Brown                      1\n",
       "Tan/Brown Brindle               1\n",
       "Tortie/Black Smoke              1\n",
       "Brown/Blue                      1\n",
       "White/Black Smoke               1\n",
       "Tricolor/Brown Merle            1\n",
       "Tan/Brown Merle                 1\n",
       "Tricolor/Blue Merle             1\n",
       "Brown Merle/Tan                 1\n",
       "Sable/Red                       1\n",
       "Tan/Tricolor                    1\n",
       "Brown Brindle/Brown Merle       1\n",
       "Chocolate/Red Tick              1\n",
       "Blue Merle/Red                  1\n",
       "Brown/Black Brindle             1\n",
       "Blue Cream/Tortie               1\n",
       "Tan/Yellow Brindle              1\n",
       "Silver/Red                      1\n",
       "Red Tick/Brown Merle            1\n",
       "Fawn/Brown                      1\n",
       "Calico/Blue Tabby               1\n",
       "Blue Merle/Cream                1\n",
       "Blue Tabby/Tan                  1\n",
       "Brown Brindle/Blue Cream        1\n",
       "Blue Cream/Buff                 1\n",
       "Blue Cream/Blue Tabby           1\n",
       "Name: Color, Length: 366, dtype: int64"
      ]
     },
     "execution_count": 11,
     "metadata": {},
     "output_type": "execute_result"
    }
   ],
   "source": [
    "df['Color'].value_counts()"
   ]
  },
  {
   "cell_type": "markdown",
   "metadata": {},
   "source": [
    "    - 10개의 Column\n",
    "        - AnimalID, Name, DateTime, OutcomeType, OutcomeSubtype, AnimalType, SexuponOutcome, AgeuponOutcome, Breed, Color\n",
    "    1. 각 동물은 AnimalID 라는 고유의 값을 가짐\n",
    "    2. Name에 NaN 값이 존재\n",
    "    3. DateTime\n",
    "    4. OutcomeType은 5가지\n",
    "        - Adoption, Transfer, Return_to_owner, Euthanasia, Died\n",
    "    5. OutcomeSubtype은 16가지\n",
    "        - NaN 존재\n",
    "    6. AnimalType은 2가지\n",
    "        - Dog, Cat\n",
    "    7. SexuponOutcome은 4가지\n",
    "        - Neutered Male(중성화 수컷), Spayed Female(중성화 암컷), Intact Male(수컷), Intact Female(암컷)\n",
    "    8. AgeuponOutcome은 매우 다양\n",
    "    9. Breed(품종), 1380종\n",
    "    10. Color\n",
    "    \n",
    "- 전처리 필요한 변수들\n",
    "    - Name\n",
    "    - DateTime\n",
    "    - AgeuponOutcome\n",
    "        - 일수로 바꾸어 계산이 필요\n",
    "    - Breed\n",
    "        - 크기(소/중/대), 품종(순종/믹스), 장/단모 등\n",
    "    - Color"
   ]
  },
  {
   "cell_type": "markdown",
   "metadata": {},
   "source": [
    "## 전처리"
   ]
  },
  {
   "cell_type": "markdown",
   "metadata": {},
   "source": [
    "### NaN 처리"
   ]
  },
  {
   "cell_type": "code",
   "execution_count": 12,
   "metadata": {
    "collapsed": true
   },
   "outputs": [],
   "source": [
    "df['Name'] = df['Name'].replace(np.nan, 'Unnamed', regex=True)\n",
    "df['AgeuponOutcome'] = df['AgeuponOutcome'].replace(np.nan, '0 days', regex=True)\n",
    "df['OutcomeSubtype'] = df['OutcomeSubtype'].replace(np.nan, 'None', regex=True)\n",
    "df['SexuponOutcome'] = df['SexuponOutcome'].replace(np.nan, 'Unknown', regex=True)"
   ]
  },
  {
   "cell_type": "markdown",
   "metadata": {},
   "source": [
    "### 이름 분류 (Named / Unnamed)"
   ]
  },
  {
   "cell_type": "code",
   "execution_count": 13,
   "metadata": {
    "collapsed": true
   },
   "outputs": [],
   "source": [
    "for i in range(0, len(df['Name'])):\n",
    "    if df['Name'][i] != 'Unnamed':\n",
    "        df['Name'][i] = 'Named'"
   ]
  },
  {
   "cell_type": "code",
   "execution_count": 14,
   "metadata": {
    "scrolled": true
   },
   "outputs": [
    {
     "data": {
      "text/plain": [
       "Named      19038\n",
       "Unnamed     7691\n",
       "Name: Name, dtype: int64"
      ]
     },
     "execution_count": 14,
     "metadata": {},
     "output_type": "execute_result"
    }
   ],
   "source": [
    "df['Name'].value_counts()"
   ]
  },
  {
   "cell_type": "code",
   "execution_count": null,
   "metadata": {
    "collapsed": true
   },
   "outputs": [],
   "source": []
  },
  {
   "cell_type": "code",
   "execution_count": 15,
   "metadata": {
    "collapsed": true
   },
   "outputs": [],
   "source": [
    "# AgeuponOutcome -> AgeGroup 그룹 추가 by hoon\n",
    "\n",
    "df['AgeGroup'] = df['AgeuponOutcome']\n",
    "for i in range(0, len(df['AgeuponOutcome'])):\n",
    "    num, unit = (df['AgeuponOutcome'][i]).split(' ')\n",
    "    if unit == 'year' or unit == 'years':\n",
    "        df['AgeGroup'][i] = 'year'\n",
    "    elif unit == 'month' or unit == 'months':\n",
    "        df['AgeGroup'][i] = 'month'\n",
    "    elif unit == 'week' or unit == 'weeks':\n",
    "        df['AgeGroup'][i] = 'week'\n",
    "    elif unit == 'day' or unit == 'days':\n",
    "        df['AgeGroup'][i] = 'day'"
   ]
  },
  {
   "cell_type": "code",
   "execution_count": null,
   "metadata": {
    "collapsed": true
   },
   "outputs": [],
   "source": []
  },
  {
   "cell_type": "markdown",
   "metadata": {},
   "source": [
    "### 나이 단위를 일(day) 단위로 통일"
   ]
  },
  {
   "cell_type": "code",
   "execution_count": 38,
   "metadata": {
    "collapsed": true
   },
   "outputs": [],
   "source": [
    "for i in range(0, len(df['AgeuponOutcome'])):\n",
    "    num, unit = (df['AgeuponOutcome'][i]).split(' ')\n",
    "    if unit == 'year' or unit == 'years':\n",
    "        df['AgeuponOutcome'][i] = int(num) * 365\n",
    "    elif unit == 'month' or unit == 'months':\n",
    "        df['AgeuponOutcome'][i] = int(num) * 30\n",
    "    elif unit == 'week' or unit == 'weeks':\n",
    "        df['AgeuponOutcome'][i] = int(num) * 7\n",
    "    elif unit == 'day' or unit == 'days':\n",
    "        df['AgeuponOutcome'][i] = int(num)"
   ]
  },
  {
   "cell_type": "code",
   "execution_count": 39,
   "metadata": {},
   "outputs": [
    {
     "data": {
      "text/plain": [
       "365     3969\n",
       "730     3742\n",
       "60      3397\n",
       "1095    1823\n",
       "30      1281\n",
       "90      1277\n",
       "1460    1071\n",
       "1825     992\n",
       "120      888\n",
       "2190     670\n",
       "21       659\n",
       "150      652\n",
       "180      588\n",
       "2920     536\n",
       "2555     531\n",
       "14       529\n",
       "300      457\n",
       "3650     446\n",
       "240      402\n",
       "28       334\n",
       "7        317\n",
       "3285     288\n",
       "210      288\n",
       "4380     234\n",
       "270      224\n",
       "330      166\n",
       "4745     143\n",
       "4015     126\n",
       "3        109\n",
       "2         99\n",
       "5110      97\n",
       "5475      85\n",
       "1         66\n",
       "6         50\n",
       "4         50\n",
       "0         40\n",
       "5840      36\n",
       "5         24\n",
       "6205      17\n",
       "35        11\n",
       "6570      10\n",
       "6935       3\n",
       "7300       2\n",
       "Name: AgeuponOutcome, dtype: int64"
      ]
     },
     "execution_count": 39,
     "metadata": {},
     "output_type": "execute_result"
    }
   ],
   "source": [
    "# 변경 여부를 확인하고, 0이 40건임을 확인\n",
    "df['AgeuponOutcome'].value_counts()"
   ]
  },
  {
   "cell_type": "markdown",
   "metadata": {},
   "source": [
    "### Breed\n",
    "* Pure/Mix 분류"
   ]
  },
  {
   "cell_type": "code",
   "execution_count": 40,
   "metadata": {
    "collapsed": true
   },
   "outputs": [],
   "source": [
    "df['Type'] = Series(range(len(df['Breed'])))"
   ]
  },
  {
   "cell_type": "code",
   "execution_count": 41,
   "metadata": {},
   "outputs": [
    {
     "name": "stderr",
     "output_type": "stream",
     "text": [
      "c:\\python27\\lib\\site-packages\\ipykernel_launcher.py:3: SettingWithCopyWarning: \n",
      "A value is trying to be set on a copy of a slice from a DataFrame\n",
      "\n",
      "See the caveats in the documentation: http://pandas.pydata.org/pandas-docs/stable/indexing.html#indexing-view-versus-copy\n",
      "  This is separate from the ipykernel package so we can avoid doing imports until\n"
     ]
    }
   ],
   "source": [
    "for i in range(len(df['Breed'])):\n",
    "    if '/' in df['Breed'][i] or 'Mix' in df['Breed'][i]:\n",
    "        df['Type'][i] = 'Mix'\n",
    "    else:\n",
    "        df['Type'][i] = 'Pure'"
   ]
  },
  {
   "cell_type": "code",
   "execution_count": 42,
   "metadata": {},
   "outputs": [
    {
     "data": {
      "text/plain": [
       "Mix     25338\n",
       "Pure     1391\n",
       "Name: Type, dtype: int64"
      ]
     },
     "execution_count": 42,
     "metadata": {},
     "output_type": "execute_result"
    }
   ],
   "source": [
    "df['Type'].value_counts()"
   ]
  },
  {
   "cell_type": "markdown",
   "metadata": {},
   "source": [
    "### Color"
   ]
  },
  {
   "cell_type": "code",
   "execution_count": 43,
   "metadata": {
    "collapsed": true
   },
   "outputs": [],
   "source": [
    "# number of color 색상의 갯수, 0은 한색, 1은 두색이상\n",
    "def get_num(x):\n",
    "    x = str(x)\n",
    "    if x.find('/') >= 0: return 1\n",
    "    else: return 0\n",
    "\n",
    "df['numCol'] = df.Color.apply(get_num)"
   ]
  },
  {
   "cell_type": "code",
   "execution_count": 44,
   "metadata": {
    "collapsed": true
   },
   "outputs": [],
   "source": [
    "# Color 단순화 1단계 '/' 풀기\n",
    "from pandas import Series\n",
    "\n",
    "bymain = []\n",
    "\n",
    "for i in df['Color']:\n",
    "    i = str(i)\n",
    "    if i.find('/') >= 0:\n",
    "        f, s = i.split('/')\n",
    "        bymain.append(f)\n",
    "    else:\n",
    "        bymain.append(i)\n",
    "\n",
    "df['Color'] = Series(bymain)"
   ]
  },
  {
   "cell_type": "code",
   "execution_count": 45,
   "metadata": {
    "collapsed": true
   },
   "outputs": [],
   "source": [
    "def get_mainC(x):\n",
    "    x = str(x)\n",
    "    if x.find('Black') >= 0: return 'dark'\n",
    "    if x.find('White') >= 0: return 'light'\n",
    "    if x.find('Brown') >= 0: return 'dark'\n",
    "    if x.find('Orange') >= 0: return 'light'\n",
    "    if x.find('Blue') >= 0: return 'medium'\n",
    "    if x.find('Red') >= 0: return 'medium'\n",
    "    \n",
    "    if x.find('Tan') >= 0: return 'medium'\n",
    "    if x.find('Tortie') >= 0: return 'dark'\n",
    "    if x.find('Calico') >= 0: return 'medium'\n",
    "    if x.find('Torbie') >= 0: return 'medium'\n",
    "    if x.find('Buff') >= 0: return 'light'\n",
    "    if x.find('Sable') >= 0: return 'dark'\n",
    "    if x.find('Cream') >= 0: return 'light'\n",
    "    if x.find('Yellow') >= 0: return 'light'\n",
    "    if x.find('Lynx') >= 0: return 'light'\n",
    "    if x.find('Chocolate') >= 0: return 'dark'\n",
    "    if x.find('Gray') >= 0: return 'dark'\n",
    "    if x.find('Liver') >= 0: return 'dark'\n",
    "    if x.find('Flame') >= 0: return 'light'\n",
    "    if x.find('Agouti') >= 0: return 'dark'\n",
    "    if x.find('Pink') >= 0: return 'light'\n",
    "    if x.find('Ruddy') >= 0: return 'medium'\n",
    "    if x.find('Gold') >= 0: return 'light'\n",
    "    if x.find('Silver') >= 0: return 'light'\n",
    "    if x.find('Lilac') >= 0: return 'light'\n",
    "    if x.find('Seal') >= 0: return 'medium'\n",
    "    if x.find('Fawn') >= 0: return 'light'\n",
    "    if x.find('Apricot') >= 0: return 'light'\n",
    "    else: return x\n",
    "\n",
    "df['Color'] = df.Color.apply(get_mainC)"
   ]
  },
  {
   "cell_type": "code",
   "execution_count": 46,
   "metadata": {
    "scrolled": true
   },
   "outputs": [
    {
     "data": {
      "text/html": [
       "<div>\n",
       "<style>\n",
       "    .dataframe thead tr:only-child th {\n",
       "        text-align: right;\n",
       "    }\n",
       "\n",
       "    .dataframe thead th {\n",
       "        text-align: left;\n",
       "    }\n",
       "\n",
       "    .dataframe tbody tr th {\n",
       "        vertical-align: top;\n",
       "    }\n",
       "</style>\n",
       "<table border=\"1\" class=\"dataframe\">\n",
       "  <thead>\n",
       "    <tr style=\"text-align: right;\">\n",
       "      <th></th>\n",
       "      <th>AnimalID</th>\n",
       "      <th>Name</th>\n",
       "      <th>DateTime</th>\n",
       "      <th>OutcomeType</th>\n",
       "      <th>OutcomeSubtype</th>\n",
       "      <th>AnimalType</th>\n",
       "      <th>SexuponOutcome</th>\n",
       "      <th>AgeuponOutcome</th>\n",
       "      <th>Breed</th>\n",
       "      <th>Color</th>\n",
       "      <th>Type</th>\n",
       "      <th>numCol</th>\n",
       "    </tr>\n",
       "  </thead>\n",
       "  <tbody>\n",
       "    <tr>\n",
       "      <th>26724</th>\n",
       "      <td>A702446</td>\n",
       "      <td>Unnamed</td>\n",
       "      <td>2015-05-14 11:56:00</td>\n",
       "      <td>Transfer</td>\n",
       "      <td>Partner</td>\n",
       "      <td>Cat</td>\n",
       "      <td>Intact Male</td>\n",
       "      <td>30</td>\n",
       "      <td>Domestic Shorthair Mix</td>\n",
       "      <td>dark</td>\n",
       "      <td>Mix</td>\n",
       "      <td>1</td>\n",
       "    </tr>\n",
       "    <tr>\n",
       "      <th>26725</th>\n",
       "      <td>A718934</td>\n",
       "      <td>Unnamed</td>\n",
       "      <td>2016-01-20 18:59:00</td>\n",
       "      <td>Transfer</td>\n",
       "      <td>SCRP</td>\n",
       "      <td>Cat</td>\n",
       "      <td>Spayed Female</td>\n",
       "      <td>90</td>\n",
       "      <td>Domestic Shorthair Mix</td>\n",
       "      <td>dark</td>\n",
       "      <td>Mix</td>\n",
       "      <td>0</td>\n",
       "    </tr>\n",
       "    <tr>\n",
       "      <th>26726</th>\n",
       "      <td>A698128</td>\n",
       "      <td>Named</td>\n",
       "      <td>2015-03-09 13:33:00</td>\n",
       "      <td>Adoption</td>\n",
       "      <td>None</td>\n",
       "      <td>Dog</td>\n",
       "      <td>Neutered Male</td>\n",
       "      <td>1460</td>\n",
       "      <td>Old English Bulldog Mix</td>\n",
       "      <td>light</td>\n",
       "      <td>Mix</td>\n",
       "      <td>1</td>\n",
       "    </tr>\n",
       "    <tr>\n",
       "      <th>26727</th>\n",
       "      <td>A677478</td>\n",
       "      <td>Unnamed</td>\n",
       "      <td>2014-04-27 12:22:00</td>\n",
       "      <td>Transfer</td>\n",
       "      <td>Partner</td>\n",
       "      <td>Cat</td>\n",
       "      <td>Intact Male</td>\n",
       "      <td>28</td>\n",
       "      <td>Domestic Shorthair Mix</td>\n",
       "      <td>dark</td>\n",
       "      <td>Mix</td>\n",
       "      <td>0</td>\n",
       "    </tr>\n",
       "    <tr>\n",
       "      <th>26728</th>\n",
       "      <td>A706629</td>\n",
       "      <td>Unnamed</td>\n",
       "      <td>2015-07-02 09:00:00</td>\n",
       "      <td>Transfer</td>\n",
       "      <td>SCRP</td>\n",
       "      <td>Cat</td>\n",
       "      <td>Intact Male</td>\n",
       "      <td>365</td>\n",
       "      <td>Domestic Shorthair Mix</td>\n",
       "      <td>dark</td>\n",
       "      <td>Mix</td>\n",
       "      <td>1</td>\n",
       "    </tr>\n",
       "  </tbody>\n",
       "</table>\n",
       "</div>"
      ],
      "text/plain": [
       "      AnimalID     Name             DateTime OutcomeType OutcomeSubtype  \\\n",
       "26724  A702446  Unnamed  2015-05-14 11:56:00    Transfer        Partner   \n",
       "26725  A718934  Unnamed  2016-01-20 18:59:00    Transfer           SCRP   \n",
       "26726  A698128    Named  2015-03-09 13:33:00    Adoption           None   \n",
       "26727  A677478  Unnamed  2014-04-27 12:22:00    Transfer        Partner   \n",
       "26728  A706629  Unnamed  2015-07-02 09:00:00    Transfer           SCRP   \n",
       "\n",
       "      AnimalType SexuponOutcome AgeuponOutcome                    Breed  \\\n",
       "26724        Cat    Intact Male             30   Domestic Shorthair Mix   \n",
       "26725        Cat  Spayed Female             90   Domestic Shorthair Mix   \n",
       "26726        Dog  Neutered Male           1460  Old English Bulldog Mix   \n",
       "26727        Cat    Intact Male             28   Domestic Shorthair Mix   \n",
       "26728        Cat    Intact Male            365   Domestic Shorthair Mix   \n",
       "\n",
       "       Color Type  numCol  \n",
       "26724   dark  Mix       1  \n",
       "26725   dark  Mix       0  \n",
       "26726  light  Mix       1  \n",
       "26727   dark  Mix       0  \n",
       "26728   dark  Mix       1  "
      ]
     },
     "execution_count": 46,
     "metadata": {},
     "output_type": "execute_result"
    }
   ],
   "source": [
    "df.tail()"
   ]
  },
  {
   "cell_type": "code",
   "execution_count": null,
   "metadata": {
    "collapsed": true
   },
   "outputs": [],
   "source": []
  },
  {
   "cell_type": "markdown",
   "metadata": {},
   "source": [
    "## Data 시각화"
   ]
  },
  {
   "cell_type": "code",
   "execution_count": 20,
   "metadata": {},
   "outputs": [
    {
     "data": {
      "text/plain": [
       "<matplotlib.axes._subplots.AxesSubplot at 0x984dc50>"
      ]
     },
     "execution_count": 20,
     "metadata": {},
     "output_type": "execute_result"
    },
    {
     "data": {
      "image/png": "[encoded data removed]",
      "text/plain": [
       "<matplotlib.figure.Figure at 0x9290430>"
      ]
     },
     "metadata": {},
     "output_type": "display_data"
    }
   ],
   "source": [
    "f, (ax1, ax2) = plt.subplots(1, 2, figsize=(16,4))\n",
    "df['AnimalType'].value_counts().plot(kind = 'bar', ax=ax1)\n",
    "sns.countplot(data=df, x='AnimalType', hue='Name', ax=ax2)"
   ]
  },
  {
   "cell_type": "code",
   "execution_count": 21,
   "metadata": {},
   "outputs": [
    {
     "data": {
      "text/plain": [
       "<matplotlib.axes._subplots.AxesSubplot at 0x9a46450>"
      ]
     },
     "execution_count": 21,
     "metadata": {},
     "output_type": "execute_result"
    },
    {
     "data": {
      "image/png": "[encoded data removed]",
      "text/plain": [
       "<matplotlib.figure.Figure at 0x999aab0>"
      ]
     },
     "metadata": {},
     "output_type": "display_data"
    }
   ],
   "source": [
    "f, (ax1, ax2) = plt.subplots(1, 2, figsize=(16,4))\n",
    "sns.countplot(data=df, x='AnimalType', hue='Type', ax=ax1)\n",
    "sns.countplot(data=df, x='OutcomeType', hue='Type', ax = ax2)"
   ]
  },
  {
   "cell_type": "code",
   "execution_count": 22,
   "metadata": {},
   "outputs": [
    {
     "data": {
      "text/plain": [
       "<matplotlib.axes._subplots.AxesSubplot at 0x9beb410>"
      ]
     },
     "execution_count": 22,
     "metadata": {},
     "output_type": "execute_result"
    },
    {
     "data": {
      "image/png": "[encoded data removed]",
      "text/plain": [
       "<matplotlib.figure.Figure at 0x9b88930>"
      ]
     },
     "metadata": {},
     "output_type": "display_data"
    }
   ],
   "source": [
    "f, (ax1, ax2) = plt.subplots(1, 2, figsize=(16,4))\n",
    "sns.countplot(data=df, x='OutcomeType', hue='AnimalType', ax = ax1)\n",
    "sns.countplot(data=df, x='SexuponOutcome', hue='AnimalType', ax=ax2)"
   ]
  },
  {
   "cell_type": "markdown",
   "metadata": {},
   "source": [
    "* OutcomeType에서 AniamlType별 차이가 크게 발생한다\n",
    "    * 개는 주인이 되찾아간 비율이 고양이에 비해 확연히 큼\n",
    "    * 고양이는 입양되거나 다른 시설로 보내진 경우가 많다\n",
    "    * 보호기간 동안 죽거나 안락사 된 비율은 고양이와 개, 모두 낮다\n",
    "* SexuponOutcome에서 AnimalType별 차이가 발생한다\n",
    "    * 개는 성별에 관계없이 중성화된 비율이 높게 나타난다\n",
    "    * 고양이도 중성화된 비율이 높으나, 크게 차이가 발생하지 않는다\n",
    "    * 고양이의 경우 성별이 누락된 경우가 있다 (Unknown)"
   ]
  },
  {
   "cell_type": "code",
   "execution_count": 23,
   "metadata": {
    "scrolled": true
   },
   "outputs": [
    {
     "data": {
      "image/png": "[encoded data removed]",
      "text/plain": [
       "<matplotlib.figure.Figure at 0x9bf7650>"
      ]
     },
     "metadata": {},
     "output_type": "display_data"
    }
   ],
   "source": [
    "from statsmodels.graphics.mosaicplot import mosaic\n",
    "plt.rcParams['font.size'] = 7\n",
    "mosaic = mosaic(df, ['AnimalType', 'OutcomeType', 'SexuponOutcome'])"
   ]
  },
  {
   "cell_type": "markdown",
   "metadata": {},
   "source": [
    "* AnimalType에 관계없이, 중성화 된 개체가 Adoption에서 높은 비율을 차지함\n",
    "* Adoption과 개체의 성별은 상관도가 낮은 것으로 판단됨\n",
    "* 전반적으로 성별 자체의 영향은 낮은것으로 보이며, Adoption과 Return to owner에만 중성화에 따른 비율이 다르다"
   ]
  },
  {
   "cell_type": "code",
   "execution_count": 24,
   "metadata": {},
   "outputs": [
    {
     "data": {
      "text/plain": [
       "<matplotlib.axes._subplots.AxesSubplot at 0x9e26bd0>"
      ]
     },
     "execution_count": 24,
     "metadata": {},
     "output_type": "execute_result"
    },
    {
     "data": {
      "image/png": "[encoded data removed]",
      "text/plain": [
       "<matplotlib.figure.Figure at 0x9ca3710>"
      ]
     },
     "metadata": {},
     "output_type": "display_data"
    }
   ],
   "source": [
    "sns.boxplot(x='AgeuponOutcome', y='AnimalType', data = df)"
   ]
  },
  {
   "cell_type": "code",
   "execution_count": 25,
   "metadata": {
    "collapsed": true
   },
   "outputs": [],
   "source": [
    "df['AgeuponOutcome'] = df['AgeuponOutcome'].astype(int)"
   ]
  },
  {
   "cell_type": "code",
   "execution_count": 26,
   "metadata": {},
   "outputs": [
    {
     "data": {
      "image/png": "[encoded data removed]",
      "text/plain": [
       "<matplotlib.figure.Figure at 0xac711b0>"
      ]
     },
     "metadata": {},
     "output_type": "display_data"
    }
   ],
   "source": [
    "f, (ax1, ax2) = plt.subplots(1, 2, figsize=(16,4))\n",
    "sns.violinplot(x=\"OutcomeType\", y=\"AgeuponOutcome\", hue=\"AnimalType\", data=df, split=True,\n",
    "               inner=\"quart\", palette={\"Dog\": \"b\", \"Cat\": \"y\"}, ax=ax1)\n",
    "sns.violinplot(x=\"SexuponOutcome\", y=\"AgeuponOutcome\", hue=\"AnimalType\", data=df, split=True,\n",
    "               inner=\"quart\", palette={\"Dog\": \"b\", \"Cat\": \"y\"}, ax=ax2)\n",
    "sns.despine(left=True)"
   ]
  },
  {
   "cell_type": "markdown",
   "metadata": {},
   "source": [
    "* 보호소에 어린 고양이가 많이 들어옴\n",
    "* 따라서 고양이의 OutcomeType은 모두 어린 쪽에 집중되어있다\n",
    "    * 고양이의 나이는 크게 영향이 없을 것으로 예상됨\n",
    "    * 단, 나이가 많은 고양이의 경우, 안락사 되는 경우가 있다\n",
    "    * 고양이는 다쳐서 보호소에 들어오는 경우가 많지 않을까 예상\n",
    "* 다양한 연령대의 개들이 보호소에 들어옴\n",
    "    * 입양되는 비율은 어린 개에 집중되어 있으며, 나이가 많을 수록 안락사의 비율이 높았다\n",
    "    * 개는 고양이에 비해 죽거나 안락사 되는 비율이 적은 것으로 보인다"
   ]
  },
  {
   "cell_type": "code",
   "execution_count": 27,
   "metadata": {
    "collapsed": true
   },
   "outputs": [],
   "source": [
    "subset = df[['OutcomeSubtype', 'OutcomeType']]\n",
    "tuples = [tuple(x) for x in subset.values]"
   ]
  },
  {
   "cell_type": "code",
   "execution_count": 28,
   "metadata": {
    "collapsed": true
   },
   "outputs": [],
   "source": [
    "from collections import Counter\n",
    "\n",
    "val_3=Counter(tuples)"
   ]
  },
  {
   "cell_type": "code",
   "execution_count": 29,
   "metadata": {
    "collapsed": true
   },
   "outputs": [],
   "source": [
    "sub_df1 = pd.DataFrame(val_3.values(), columns=['count'], index=pd.MultiIndex.from_tuples(val_3.keys()))\n",
    "sub_df2 = sub_df1.unstack()\n",
    "sub_df2.columns = sub_df2.columns.droplevel()  # Drop `count` label.\n",
    "sub_df2 = sub_df2.div(sub_df2.sum())"
   ]
  },
  {
   "cell_type": "code",
   "execution_count": 30,
   "metadata": {},
   "outputs": [
    {
     "data": {
      "text/plain": [
       "<matplotlib.axes._subplots.AxesSubplot at 0xb026150>"
      ]
     },
     "execution_count": 30,
     "metadata": {},
     "output_type": "execute_result"
    },
    {
     "data": {
      "image/png": "[encoded data removed]",
      "text/plain": [
       "<matplotlib.figure.Figure at 0xac20cd0>"
      ]
     },
     "metadata": {},
     "output_type": "display_data"
    }
   ],
   "source": [
    "sub_df2.T.plot(kind='bar', stacked=True, rot=1, figsize=(8, 8))"
   ]
  },
  {
   "cell_type": "code",
   "execution_count": 31,
   "metadata": {
    "scrolled": false
   },
   "outputs": [
    {
     "data": {
      "text/plain": [
       "<matplotlib.axes._subplots.AxesSubplot at 0xb3ede70>"
      ]
     },
     "execution_count": 31,
     "metadata": {},
     "output_type": "execute_result"
    },
    {
     "data": {
      "image/png": "[encoded data removed]",
      "text/plain": [
       "<matplotlib.figure.Figure at 0xb29e890>"
      ]
     },
     "metadata": {},
     "output_type": "display_data"
    }
   ],
   "source": [
    "subset = df[['AnimalType', 'OutcomeType']]\n",
    "tuples = [tuple(x) for x in subset.values]\n",
    "val_3=Counter(tuples)\n",
    "sub_df1 = pd.DataFrame(val_3.values(), columns=['count'], index=pd.MultiIndex.from_tuples(val_3.keys()))\n",
    "sub_df2 = sub_df1.unstack()\n",
    "sub_df2.columns = sub_df2.columns.droplevel()\n",
    "sub_df2 = sub_df2.div(sub_df2.sum())\n",
    "\n",
    "sub_df2.T.plot(kind='bar', stacked=True, rot=1, figsize=(8, 8))"
   ]
  },
  {
   "cell_type": "markdown",
   "metadata": {},
   "source": [
    "* AnimalType 별 차이가 큼을 확인할 수 있었음\n",
    "* Name, AgeuponOutcome, SexuponOutcome, OutcomeType 등에서 큰 차이가 있음\n",
    "* Dog과 Cat을 분리하여 분석해야 할 필요성이 발생"
   ]
  },
  {
   "cell_type": "markdown",
   "metadata": {},
   "source": [
    "### DataFrame 생성 (Dog/Cat)"
   ]
  },
  {
   "cell_type": "code",
   "execution_count": 32,
   "metadata": {
    "collapsed": true
   },
   "outputs": [],
   "source": [
    "Dog = df[df['AnimalType'] == 'Dog']\n",
    "Cat = df[df['AnimalType'] == 'Cat']"
   ]
  },
  {
   "cell_type": "code",
   "execution_count": 33,
   "metadata": {},
   "outputs": [
    {
     "data": {
      "text/html": [
       "<div>\n",
       "<style>\n",
       "    .dataframe thead tr:only-child th {\n",
       "        text-align: right;\n",
       "    }\n",
       "\n",
       "    .dataframe thead th {\n",
       "        text-align: left;\n",
       "    }\n",
       "\n",
       "    .dataframe tbody tr th {\n",
       "        vertical-align: top;\n",
       "    }\n",
       "</style>\n",
       "<table border=\"1\" class=\"dataframe\">\n",
       "  <thead>\n",
       "    <tr style=\"text-align: right;\">\n",
       "      <th></th>\n",
       "      <th>AnimalID</th>\n",
       "      <th>Name</th>\n",
       "      <th>DateTime</th>\n",
       "      <th>OutcomeType</th>\n",
       "      <th>OutcomeSubtype</th>\n",
       "      <th>AnimalType</th>\n",
       "      <th>SexuponOutcome</th>\n",
       "      <th>AgeuponOutcome</th>\n",
       "      <th>Breed</th>\n",
       "      <th>Color</th>\n",
       "      <th>Type</th>\n",
       "    </tr>\n",
       "  </thead>\n",
       "  <tbody>\n",
       "    <tr>\n",
       "      <th>0</th>\n",
       "      <td>A671945</td>\n",
       "      <td>Named</td>\n",
       "      <td>2014-02-12 18:22:00</td>\n",
       "      <td>Return_to_owner</td>\n",
       "      <td>None</td>\n",
       "      <td>Dog</td>\n",
       "      <td>Neutered Male</td>\n",
       "      <td>365</td>\n",
       "      <td>Shetland Sheepdog Mix</td>\n",
       "      <td>Brown/White</td>\n",
       "      <td>Mix</td>\n",
       "    </tr>\n",
       "    <tr>\n",
       "      <th>2</th>\n",
       "      <td>A686464</td>\n",
       "      <td>Named</td>\n",
       "      <td>2015-01-31 12:28:00</td>\n",
       "      <td>Adoption</td>\n",
       "      <td>Foster</td>\n",
       "      <td>Dog</td>\n",
       "      <td>Neutered Male</td>\n",
       "      <td>730</td>\n",
       "      <td>Pit Bull Mix</td>\n",
       "      <td>Blue/White</td>\n",
       "      <td>Mix</td>\n",
       "    </tr>\n",
       "    <tr>\n",
       "      <th>4</th>\n",
       "      <td>A667013</td>\n",
       "      <td>Unnamed</td>\n",
       "      <td>2013-11-15 12:52:00</td>\n",
       "      <td>Transfer</td>\n",
       "      <td>Partner</td>\n",
       "      <td>Dog</td>\n",
       "      <td>Neutered Male</td>\n",
       "      <td>730</td>\n",
       "      <td>Lhasa Apso/Miniature Poodle</td>\n",
       "      <td>Tan</td>\n",
       "      <td>Mix</td>\n",
       "    </tr>\n",
       "    <tr>\n",
       "      <th>5</th>\n",
       "      <td>A677334</td>\n",
       "      <td>Named</td>\n",
       "      <td>2014-04-25 13:04:00</td>\n",
       "      <td>Transfer</td>\n",
       "      <td>Partner</td>\n",
       "      <td>Dog</td>\n",
       "      <td>Intact Female</td>\n",
       "      <td>30</td>\n",
       "      <td>Cairn Terrier/Chihuahua Shorthair</td>\n",
       "      <td>Black/Tan</td>\n",
       "      <td>Mix</td>\n",
       "    </tr>\n",
       "    <tr>\n",
       "      <th>8</th>\n",
       "      <td>A671784</td>\n",
       "      <td>Named</td>\n",
       "      <td>2014-02-04 17:17:00</td>\n",
       "      <td>Adoption</td>\n",
       "      <td>None</td>\n",
       "      <td>Dog</td>\n",
       "      <td>Spayed Female</td>\n",
       "      <td>150</td>\n",
       "      <td>American Pit Bull Terrier Mix</td>\n",
       "      <td>Red/White</td>\n",
       "      <td>Mix</td>\n",
       "    </tr>\n",
       "  </tbody>\n",
       "</table>\n",
       "</div>"
      ],
      "text/plain": [
       "  AnimalID     Name             DateTime      OutcomeType OutcomeSubtype  \\\n",
       "0  A671945    Named  2014-02-12 18:22:00  Return_to_owner           None   \n",
       "2  A686464    Named  2015-01-31 12:28:00         Adoption         Foster   \n",
       "4  A667013  Unnamed  2013-11-15 12:52:00         Transfer        Partner   \n",
       "5  A677334    Named  2014-04-25 13:04:00         Transfer        Partner   \n",
       "8  A671784    Named  2014-02-04 17:17:00         Adoption           None   \n",
       "\n",
       "  AnimalType SexuponOutcome  AgeuponOutcome  \\\n",
       "0        Dog  Neutered Male             365   \n",
       "2        Dog  Neutered Male             730   \n",
       "4        Dog  Neutered Male             730   \n",
       "5        Dog  Intact Female              30   \n",
       "8        Dog  Spayed Female             150   \n",
       "\n",
       "                               Breed        Color Type  \n",
       "0              Shetland Sheepdog Mix  Brown/White  Mix  \n",
       "2                       Pit Bull Mix   Blue/White  Mix  \n",
       "4        Lhasa Apso/Miniature Poodle          Tan  Mix  \n",
       "5  Cairn Terrier/Chihuahua Shorthair    Black/Tan  Mix  \n",
       "8      American Pit Bull Terrier Mix    Red/White  Mix  "
      ]
     },
     "execution_count": 33,
     "metadata": {},
     "output_type": "execute_result"
    }
   ],
   "source": [
    "Dog.head()"
   ]
  },
  {
   "cell_type": "code",
   "execution_count": 34,
   "metadata": {},
   "outputs": [
    {
     "data": {
      "text/html": [
       "<div>\n",
       "<style>\n",
       "    .dataframe thead tr:only-child th {\n",
       "        text-align: right;\n",
       "    }\n",
       "\n",
       "    .dataframe thead th {\n",
       "        text-align: left;\n",
       "    }\n",
       "\n",
       "    .dataframe tbody tr th {\n",
       "        vertical-align: top;\n",
       "    }\n",
       "</style>\n",
       "<table border=\"1\" class=\"dataframe\">\n",
       "  <thead>\n",
       "    <tr style=\"text-align: right;\">\n",
       "      <th></th>\n",
       "      <th>AnimalID</th>\n",
       "      <th>Name</th>\n",
       "      <th>DateTime</th>\n",
       "      <th>OutcomeType</th>\n",
       "      <th>OutcomeSubtype</th>\n",
       "      <th>AnimalType</th>\n",
       "      <th>SexuponOutcome</th>\n",
       "      <th>AgeuponOutcome</th>\n",
       "      <th>Breed</th>\n",
       "      <th>Color</th>\n",
       "      <th>Type</th>\n",
       "    </tr>\n",
       "  </thead>\n",
       "  <tbody>\n",
       "    <tr>\n",
       "      <th>1</th>\n",
       "      <td>A656520</td>\n",
       "      <td>Named</td>\n",
       "      <td>2013-10-13 12:44:00</td>\n",
       "      <td>Euthanasia</td>\n",
       "      <td>Suffering</td>\n",
       "      <td>Cat</td>\n",
       "      <td>Spayed Female</td>\n",
       "      <td>365</td>\n",
       "      <td>Domestic Shorthair Mix</td>\n",
       "      <td>Cream Tabby</td>\n",
       "      <td>Mix</td>\n",
       "    </tr>\n",
       "    <tr>\n",
       "      <th>3</th>\n",
       "      <td>A683430</td>\n",
       "      <td>Unnamed</td>\n",
       "      <td>2014-07-11 19:09:00</td>\n",
       "      <td>Transfer</td>\n",
       "      <td>Partner</td>\n",
       "      <td>Cat</td>\n",
       "      <td>Intact Male</td>\n",
       "      <td>21</td>\n",
       "      <td>Domestic Shorthair Mix</td>\n",
       "      <td>Blue Cream</td>\n",
       "      <td>Mix</td>\n",
       "    </tr>\n",
       "    <tr>\n",
       "      <th>6</th>\n",
       "      <td>A699218</td>\n",
       "      <td>Named</td>\n",
       "      <td>2015-03-28 13:11:00</td>\n",
       "      <td>Transfer</td>\n",
       "      <td>Partner</td>\n",
       "      <td>Cat</td>\n",
       "      <td>Intact Male</td>\n",
       "      <td>21</td>\n",
       "      <td>Domestic Shorthair Mix</td>\n",
       "      <td>Blue Tabby</td>\n",
       "      <td>Mix</td>\n",
       "    </tr>\n",
       "    <tr>\n",
       "      <th>7</th>\n",
       "      <td>A701489</td>\n",
       "      <td>Unnamed</td>\n",
       "      <td>2015-04-30 17:02:00</td>\n",
       "      <td>Transfer</td>\n",
       "      <td>Partner</td>\n",
       "      <td>Cat</td>\n",
       "      <td>Unknown</td>\n",
       "      <td>21</td>\n",
       "      <td>Domestic Shorthair Mix</td>\n",
       "      <td>Brown Tabby</td>\n",
       "      <td>Mix</td>\n",
       "    </tr>\n",
       "    <tr>\n",
       "      <th>10</th>\n",
       "      <td>A668402</td>\n",
       "      <td>Unnamed</td>\n",
       "      <td>2013-12-05 15:50:00</td>\n",
       "      <td>Transfer</td>\n",
       "      <td>SCRP</td>\n",
       "      <td>Cat</td>\n",
       "      <td>Unknown</td>\n",
       "      <td>730</td>\n",
       "      <td>Domestic Shorthair Mix</td>\n",
       "      <td>Black</td>\n",
       "      <td>Mix</td>\n",
       "    </tr>\n",
       "  </tbody>\n",
       "</table>\n",
       "</div>"
      ],
      "text/plain": [
       "   AnimalID     Name             DateTime OutcomeType OutcomeSubtype  \\\n",
       "1   A656520    Named  2013-10-13 12:44:00  Euthanasia      Suffering   \n",
       "3   A683430  Unnamed  2014-07-11 19:09:00    Transfer        Partner   \n",
       "6   A699218    Named  2015-03-28 13:11:00    Transfer        Partner   \n",
       "7   A701489  Unnamed  2015-04-30 17:02:00    Transfer        Partner   \n",
       "10  A668402  Unnamed  2013-12-05 15:50:00    Transfer           SCRP   \n",
       "\n",
       "   AnimalType SexuponOutcome  AgeuponOutcome                   Breed  \\\n",
       "1         Cat  Spayed Female             365  Domestic Shorthair Mix   \n",
       "3         Cat    Intact Male              21  Domestic Shorthair Mix   \n",
       "6         Cat    Intact Male              21  Domestic Shorthair Mix   \n",
       "7         Cat        Unknown              21  Domestic Shorthair Mix   \n",
       "10        Cat        Unknown             730  Domestic Shorthair Mix   \n",
       "\n",
       "          Color Type  \n",
       "1   Cream Tabby  Mix  \n",
       "3    Blue Cream  Mix  \n",
       "6    Blue Tabby  Mix  \n",
       "7   Brown Tabby  Mix  \n",
       "10        Black  Mix  "
      ]
     },
     "execution_count": 34,
     "metadata": {},
     "output_type": "execute_result"
    }
   ],
   "source": [
    "Cat.head()"
   ]
  },
  {
   "cell_type": "markdown",
   "metadata": {
    "collapsed": true
   },
   "source": [
    "### Dog Breed 분류\n",
    "* American Kernel Club의 기준에 따른 품종군 분류 (Working, Toy, Terrier, Herding, Sporting, Non-sporting) \n",
    "* Pure, Mix 여부는 먼저 파악하였으므로, 이번엔 Breed를 파악\n",
    "* Breed는 AKC 분류를 기준으로 분류한다,\n",
    "* /로 표시된 경우, 앞의 Breed를 기준으로 한다."
   ]
  },
  {
   "cell_type": "code",
   "execution_count": 35,
   "metadata": {
    "collapsed": true
   },
   "outputs": [],
   "source": [
    "Breed = pd.read_csv('data/breed.csv')"
   ]
  },
  {
   "cell_type": "code",
   "execution_count": 36,
   "metadata": {
    "collapsed": true
   },
   "outputs": [],
   "source": [
    "def breed_optimal(x):\n",
    "    if '/' in x:\n",
    "        x = x[0:x.index('/')]\n",
    "        return x\n",
    "    elif ' Mix' in x:\n",
    "        x = x[0:-4]\n",
    "        return x\n",
    "    else:\n",
    "        return x"
   ]
  },
  {
   "cell_type": "code",
   "execution_count": 37,
   "metadata": {},
   "outputs": [
    {
     "name": "stderr",
     "output_type": "stream",
     "text": [
      "C:\\Python27\\lib\\site-packages\\ipykernel_launcher.py:1: SettingWithCopyWarning: \n",
      "A value is trying to be set on a copy of a slice from a DataFrame.\n",
      "Try using .loc[row_indexer,col_indexer] = value instead\n",
      "\n",
      "See the caveats in the documentation: http://pandas.pydata.org/pandas-docs/stable/indexing.html#indexing-view-versus-copy\n",
      "  \"\"\"Entry point for launching an IPython kernel.\n"
     ]
    }
   ],
   "source": [
    "Dog['Breed'] = Dog['Breed'].apply(breed_optimal)"
   ]
  },
  {
   "cell_type": "code",
   "execution_count": 38,
   "metadata": {},
   "outputs": [
    {
     "data": {
      "text/html": [
       "<div>\n",
       "<style>\n",
       "    .dataframe thead tr:only-child th {\n",
       "        text-align: right;\n",
       "    }\n",
       "\n",
       "    .dataframe thead th {\n",
       "        text-align: left;\n",
       "    }\n",
       "\n",
       "    .dataframe tbody tr th {\n",
       "        vertical-align: top;\n",
       "    }\n",
       "</style>\n",
       "<table border=\"1\" class=\"dataframe\">\n",
       "  <thead>\n",
       "    <tr style=\"text-align: right;\">\n",
       "      <th></th>\n",
       "      <th>AnimalID</th>\n",
       "      <th>Name</th>\n",
       "      <th>DateTime</th>\n",
       "      <th>OutcomeType</th>\n",
       "      <th>OutcomeSubtype</th>\n",
       "      <th>AnimalType</th>\n",
       "      <th>SexuponOutcome</th>\n",
       "      <th>AgeuponOutcome</th>\n",
       "      <th>Breed</th>\n",
       "      <th>Color</th>\n",
       "      <th>Type</th>\n",
       "    </tr>\n",
       "  </thead>\n",
       "  <tbody>\n",
       "    <tr>\n",
       "      <th>0</th>\n",
       "      <td>A671945</td>\n",
       "      <td>Named</td>\n",
       "      <td>2014-02-12 18:22:00</td>\n",
       "      <td>Return_to_owner</td>\n",
       "      <td>None</td>\n",
       "      <td>Dog</td>\n",
       "      <td>Neutered Male</td>\n",
       "      <td>365</td>\n",
       "      <td>Shetland Sheepdog</td>\n",
       "      <td>Brown/White</td>\n",
       "      <td>Mix</td>\n",
       "    </tr>\n",
       "    <tr>\n",
       "      <th>2</th>\n",
       "      <td>A686464</td>\n",
       "      <td>Named</td>\n",
       "      <td>2015-01-31 12:28:00</td>\n",
       "      <td>Adoption</td>\n",
       "      <td>Foster</td>\n",
       "      <td>Dog</td>\n",
       "      <td>Neutered Male</td>\n",
       "      <td>730</td>\n",
       "      <td>Pit Bull</td>\n",
       "      <td>Blue/White</td>\n",
       "      <td>Mix</td>\n",
       "    </tr>\n",
       "    <tr>\n",
       "      <th>4</th>\n",
       "      <td>A667013</td>\n",
       "      <td>Unnamed</td>\n",
       "      <td>2013-11-15 12:52:00</td>\n",
       "      <td>Transfer</td>\n",
       "      <td>Partner</td>\n",
       "      <td>Dog</td>\n",
       "      <td>Neutered Male</td>\n",
       "      <td>730</td>\n",
       "      <td>Lhasa Apso</td>\n",
       "      <td>Tan</td>\n",
       "      <td>Mix</td>\n",
       "    </tr>\n",
       "    <tr>\n",
       "      <th>5</th>\n",
       "      <td>A677334</td>\n",
       "      <td>Named</td>\n",
       "      <td>2014-04-25 13:04:00</td>\n",
       "      <td>Transfer</td>\n",
       "      <td>Partner</td>\n",
       "      <td>Dog</td>\n",
       "      <td>Intact Female</td>\n",
       "      <td>30</td>\n",
       "      <td>Cairn Terrier</td>\n",
       "      <td>Black/Tan</td>\n",
       "      <td>Mix</td>\n",
       "    </tr>\n",
       "    <tr>\n",
       "      <th>8</th>\n",
       "      <td>A671784</td>\n",
       "      <td>Named</td>\n",
       "      <td>2014-02-04 17:17:00</td>\n",
       "      <td>Adoption</td>\n",
       "      <td>None</td>\n",
       "      <td>Dog</td>\n",
       "      <td>Spayed Female</td>\n",
       "      <td>150</td>\n",
       "      <td>American Pit Bull Terrier</td>\n",
       "      <td>Red/White</td>\n",
       "      <td>Mix</td>\n",
       "    </tr>\n",
       "  </tbody>\n",
       "</table>\n",
       "</div>"
      ],
      "text/plain": [
       "  AnimalID     Name             DateTime      OutcomeType OutcomeSubtype  \\\n",
       "0  A671945    Named  2014-02-12 18:22:00  Return_to_owner           None   \n",
       "2  A686464    Named  2015-01-31 12:28:00         Adoption         Foster   \n",
       "4  A667013  Unnamed  2013-11-15 12:52:00         Transfer        Partner   \n",
       "5  A677334    Named  2014-04-25 13:04:00         Transfer        Partner   \n",
       "8  A671784    Named  2014-02-04 17:17:00         Adoption           None   \n",
       "\n",
       "  AnimalType SexuponOutcome  AgeuponOutcome                      Breed  \\\n",
       "0        Dog  Neutered Male             365          Shetland Sheepdog   \n",
       "2        Dog  Neutered Male             730                   Pit Bull   \n",
       "4        Dog  Neutered Male             730                 Lhasa Apso   \n",
       "5        Dog  Intact Female              30              Cairn Terrier   \n",
       "8        Dog  Spayed Female             150  American Pit Bull Terrier   \n",
       "\n",
       "         Color Type  \n",
       "0  Brown/White  Mix  \n",
       "2   Blue/White  Mix  \n",
       "4          Tan  Mix  \n",
       "5    Black/Tan  Mix  \n",
       "8    Red/White  Mix  "
      ]
     },
     "execution_count": 38,
     "metadata": {},
     "output_type": "execute_result"
    }
   ],
   "source": [
    "Dog.head()"
   ]
  },
  {
   "cell_type": "code",
   "execution_count": 39,
   "metadata": {
    "collapsed": true
   },
   "outputs": [
    {
     "name": "stderr",
     "output_type": "stream",
     "text": [
      "C:\\Python27\\lib\\site-packages\\ipykernel_launcher.py:1: SettingWithCopyWarning: \n",
      "A value is trying to be set on a copy of a slice from a DataFrame.\n",
      "Try using .loc[row_indexer,col_indexer] = value instead\n",
      "\n",
      "See the caveats in the documentation: http://pandas.pydata.org/pandas-docs/stable/indexing.html#indexing-view-versus-copy\n",
      "  \"\"\"Entry point for launching an IPython kernel.\n",
      "C:\\Python27\\lib\\site-packages\\ipykernel_launcher.py:2: SettingWithCopyWarning: \n",
      "A value is trying to be set on a copy of a slice from a DataFrame.\n",
      "Try using .loc[row_indexer,col_indexer] = value instead\n",
      "\n",
      "See the caveats in the documentation: http://pandas.pydata.org/pandas-docs/stable/indexing.html#indexing-view-versus-copy\n",
      "  \n",
      "C:\\Python27\\lib\\site-packages\\ipykernel_launcher.py:3: SettingWithCopyWarning: \n",
      "A value is trying to be set on a copy of a slice from a DataFrame.\n",
      "Try using .loc[row_indexer,col_indexer] = value instead\n",
      "\n",
      "See the caveats in the documentation: http://pandas.pydata.org/pandas-docs/stable/indexing.html#indexing-view-versus-copy\n",
      "  This is separate from the ipykernel package so we can avoid doing imports until\n",
      "C:\\Python27\\lib\\site-packages\\ipykernel_launcher.py:4: SettingWithCopyWarning: \n",
      "A value is trying to be set on a copy of a slice from a DataFrame.\n",
      "Try using .loc[row_indexer,col_indexer] = value instead\n",
      "\n",
      "See the caveats in the documentation: http://pandas.pydata.org/pandas-docs/stable/indexing.html#indexing-view-versus-copy\n",
      "  after removing the cwd from sys.path.\n",
      "C:\\Python27\\lib\\site-packages\\ipykernel_launcher.py:5: SettingWithCopyWarning: \n",
      "A value is trying to be set on a copy of a slice from a DataFrame.\n",
      "Try using .loc[row_indexer,col_indexer] = value instead\n",
      "\n",
      "See the caveats in the documentation: http://pandas.pydata.org/pandas-docs/stable/indexing.html#indexing-view-versus-copy\n",
      "  \"\"\"\n",
      "C:\\Python27\\lib\\site-packages\\ipykernel_launcher.py:6: SettingWithCopyWarning: \n",
      "A value is trying to be set on a copy of a slice from a DataFrame.\n",
      "Try using .loc[row_indexer,col_indexer] = value instead\n",
      "\n",
      "See the caveats in the documentation: http://pandas.pydata.org/pandas-docs/stable/indexing.html#indexing-view-versus-copy\n",
      "  \n",
      "C:\\Python27\\lib\\site-packages\\ipykernel_launcher.py:7: SettingWithCopyWarning: \n",
      "A value is trying to be set on a copy of a slice from a DataFrame.\n",
      "Try using .loc[row_indexer,col_indexer] = value instead\n",
      "\n",
      "See the caveats in the documentation: http://pandas.pydata.org/pandas-docs/stable/indexing.html#indexing-view-versus-copy\n",
      "  import sys\n",
      "C:\\Python27\\lib\\site-packages\\ipykernel_launcher.py:8: SettingWithCopyWarning: \n",
      "A value is trying to be set on a copy of a slice from a DataFrame.\n",
      "Try using .loc[row_indexer,col_indexer] = value instead\n",
      "\n",
      "See the caveats in the documentation: http://pandas.pydata.org/pandas-docs/stable/indexing.html#indexing-view-versus-copy\n",
      "  \n",
      "C:\\Python27\\lib\\site-packages\\ipykernel_launcher.py:9: SettingWithCopyWarning: \n",
      "A value is trying to be set on a copy of a slice from a DataFrame.\n",
      "Try using .loc[row_indexer,col_indexer] = value instead\n",
      "\n",
      "See the caveats in the documentation: http://pandas.pydata.org/pandas-docs/stable/indexing.html#indexing-view-versus-copy\n",
      "  if __name__ == '__main__':\n",
      "C:\\Python27\\lib\\site-packages\\ipykernel_launcher.py:10: SettingWithCopyWarning: \n",
      "A value is trying to be set on a copy of a slice from a DataFrame.\n",
      "Try using .loc[row_indexer,col_indexer] = value instead\n",
      "\n",
      "See the caveats in the documentation: http://pandas.pydata.org/pandas-docs/stable/indexing.html#indexing-view-versus-copy\n",
      "  # Remove the CWD from sys.path while we load stuff.\n",
      "C:\\Python27\\lib\\site-packages\\ipykernel_launcher.py:11: SettingWithCopyWarning: \n",
      "A value is trying to be set on a copy of a slice from a DataFrame.\n",
      "Try using .loc[row_indexer,col_indexer] = value instead\n",
      "\n",
      "See the caveats in the documentation: http://pandas.pydata.org/pandas-docs/stable/indexing.html#indexing-view-versus-copy\n",
      "  # This is added back by InteractiveShellApp.init_path()\n",
      "C:\\Python27\\lib\\site-packages\\ipykernel_launcher.py:12: SettingWithCopyWarning: \n",
      "A value is trying to be set on a copy of a slice from a DataFrame.\n",
      "Try using .loc[row_indexer,col_indexer] = value instead\n",
      "\n",
      "See the caveats in the documentation: http://pandas.pydata.org/pandas-docs/stable/indexing.html#indexing-view-versus-copy\n",
      "  if sys.path[0] == '':\n",
      "C:\\Python27\\lib\\site-packages\\ipykernel_launcher.py:13: SettingWithCopyWarning: \n",
      "A value is trying to be set on a copy of a slice from a DataFrame.\n",
      "Try using .loc[row_indexer,col_indexer] = value instead\n",
      "\n",
      "See the caveats in the documentation: http://pandas.pydata.org/pandas-docs/stable/indexing.html#indexing-view-versus-copy\n",
      "  del sys.path[0]\n",
      "C:\\Python27\\lib\\site-packages\\ipykernel_launcher.py:14: SettingWithCopyWarning: \n",
      "A value is trying to be set on a copy of a slice from a DataFrame.\n",
      "Try using .loc[row_indexer,col_indexer] = value instead\n",
      "\n",
      "See the caveats in the documentation: http://pandas.pydata.org/pandas-docs/stable/indexing.html#indexing-view-versus-copy\n",
      "  \n",
      "C:\\Python27\\lib\\site-packages\\ipykernel_launcher.py:15: SettingWithCopyWarning: \n",
      "A value is trying to be set on a copy of a slice from a DataFrame.\n",
      "Try using .loc[row_indexer,col_indexer] = value instead\n",
      "\n",
      "See the caveats in the documentation: http://pandas.pydata.org/pandas-docs/stable/indexing.html#indexing-view-versus-copy\n",
      "  from ipykernel import kernelapp as app\n",
      "C:\\Python27\\lib\\site-packages\\ipykernel_launcher.py:16: SettingWithCopyWarning: \n",
      "A value is trying to be set on a copy of a slice from a DataFrame.\n",
      "Try using .loc[row_indexer,col_indexer] = value instead\n",
      "\n",
      "See the caveats in the documentation: http://pandas.pydata.org/pandas-docs/stable/indexing.html#indexing-view-versus-copy\n",
      "  app.launch_new_instance()\n",
      "C:\\Python27\\lib\\site-packages\\ipykernel_launcher.py:17: SettingWithCopyWarning: \n",
      "A value is trying to be set on a copy of a slice from a DataFrame.\n",
      "Try using .loc[row_indexer,col_indexer] = value instead\n",
      "\n",
      "See the caveats in the documentation: http://pandas.pydata.org/pandas-docs/stable/indexing.html#indexing-view-versus-copy\n",
      "C:\\Python27\\lib\\site-packages\\ipykernel_launcher.py:18: SettingWithCopyWarning: \n",
      "A value is trying to be set on a copy of a slice from a DataFrame.\n",
      "Try using .loc[row_indexer,col_indexer] = value instead\n",
      "\n",
      "See the caveats in the documentation: http://pandas.pydata.org/pandas-docs/stable/indexing.html#indexing-view-versus-copy\n",
      "C:\\Python27\\lib\\site-packages\\ipykernel_launcher.py:19: SettingWithCopyWarning: \n",
      "A value is trying to be set on a copy of a slice from a DataFrame.\n",
      "Try using .loc[row_indexer,col_indexer] = value instead\n",
      "\n",
      "See the caveats in the documentation: http://pandas.pydata.org/pandas-docs/stable/indexing.html#indexing-view-versus-copy\n",
      "C:\\Python27\\lib\\site-packages\\ipykernel_launcher.py:20: SettingWithCopyWarning: \n",
      "A value is trying to be set on a copy of a slice from a DataFrame.\n",
      "Try using .loc[row_indexer,col_indexer] = value instead\n",
      "\n",
      "See the caveats in the documentation: http://pandas.pydata.org/pandas-docs/stable/indexing.html#indexing-view-versus-copy\n",
      "C:\\Python27\\lib\\site-packages\\ipykernel_launcher.py:21: SettingWithCopyWarning: \n",
      "A value is trying to be set on a copy of a slice from a DataFrame.\n",
      "Try using .loc[row_indexer,col_indexer] = value instead\n",
      "\n",
      "See the caveats in the documentation: http://pandas.pydata.org/pandas-docs/stable/indexing.html#indexing-view-versus-copy\n",
      "C:\\Python27\\lib\\site-packages\\ipykernel_launcher.py:22: SettingWithCopyWarning: \n",
      "A value is trying to be set on a copy of a slice from a DataFrame.\n",
      "Try using .loc[row_indexer,col_indexer] = value instead\n",
      "\n",
      "See the caveats in the documentation: http://pandas.pydata.org/pandas-docs/stable/indexing.html#indexing-view-versus-copy\n",
      "C:\\Python27\\lib\\site-packages\\ipykernel_launcher.py:23: SettingWithCopyWarning: \n",
      "A value is trying to be set on a copy of a slice from a DataFrame.\n",
      "Try using .loc[row_indexer,col_indexer] = value instead\n",
      "\n",
      "See the caveats in the documentation: http://pandas.pydata.org/pandas-docs/stable/indexing.html#indexing-view-versus-copy\n",
      "C:\\Python27\\lib\\site-packages\\ipykernel_launcher.py:24: SettingWithCopyWarning: \n",
      "A value is trying to be set on a copy of a slice from a DataFrame.\n",
      "Try using .loc[row_indexer,col_indexer] = value instead\n",
      "\n",
      "See the caveats in the documentation: http://pandas.pydata.org/pandas-docs/stable/indexing.html#indexing-view-versus-copy\n",
      "C:\\Python27\\lib\\site-packages\\ipykernel_launcher.py:25: SettingWithCopyWarning: \n",
      "A value is trying to be set on a copy of a slice from a DataFrame.\n",
      "Try using .loc[row_indexer,col_indexer] = value instead\n",
      "\n",
      "See the caveats in the documentation: http://pandas.pydata.org/pandas-docs/stable/indexing.html#indexing-view-versus-copy\n"
     ]
    },
    {
     "name": "stderr",
     "output_type": "stream",
     "text": [
      "C:\\Python27\\lib\\site-packages\\ipykernel_launcher.py:26: SettingWithCopyWarning: \n",
      "A value is trying to be set on a copy of a slice from a DataFrame.\n",
      "Try using .loc[row_indexer,col_indexer] = value instead\n",
      "\n",
      "See the caveats in the documentation: http://pandas.pydata.org/pandas-docs/stable/indexing.html#indexing-view-versus-copy\n",
      "C:\\Python27\\lib\\site-packages\\ipykernel_launcher.py:27: SettingWithCopyWarning: \n",
      "A value is trying to be set on a copy of a slice from a DataFrame.\n",
      "Try using .loc[row_indexer,col_indexer] = value instead\n",
      "\n",
      "See the caveats in the documentation: http://pandas.pydata.org/pandas-docs/stable/indexing.html#indexing-view-versus-copy\n",
      "C:\\Python27\\lib\\site-packages\\ipykernel_launcher.py:28: SettingWithCopyWarning: \n",
      "A value is trying to be set on a copy of a slice from a DataFrame.\n",
      "Try using .loc[row_indexer,col_indexer] = value instead\n",
      "\n",
      "See the caveats in the documentation: http://pandas.pydata.org/pandas-docs/stable/indexing.html#indexing-view-versus-copy\n",
      "C:\\Python27\\lib\\site-packages\\ipykernel_launcher.py:29: SettingWithCopyWarning: \n",
      "A value is trying to be set on a copy of a slice from a DataFrame.\n",
      "Try using .loc[row_indexer,col_indexer] = value instead\n",
      "\n",
      "See the caveats in the documentation: http://pandas.pydata.org/pandas-docs/stable/indexing.html#indexing-view-versus-copy\n",
      "C:\\Python27\\lib\\site-packages\\ipykernel_launcher.py:30: SettingWithCopyWarning: \n",
      "A value is trying to be set on a copy of a slice from a DataFrame.\n",
      "Try using .loc[row_indexer,col_indexer] = value instead\n",
      "\n",
      "See the caveats in the documentation: http://pandas.pydata.org/pandas-docs/stable/indexing.html#indexing-view-versus-copy\n",
      "C:\\Python27\\lib\\site-packages\\ipykernel_launcher.py:31: SettingWithCopyWarning: \n",
      "A value is trying to be set on a copy of a slice from a DataFrame.\n",
      "Try using .loc[row_indexer,col_indexer] = value instead\n",
      "\n",
      "See the caveats in the documentation: http://pandas.pydata.org/pandas-docs/stable/indexing.html#indexing-view-versus-copy\n",
      "C:\\Python27\\lib\\site-packages\\ipykernel_launcher.py:32: SettingWithCopyWarning: \n",
      "A value is trying to be set on a copy of a slice from a DataFrame.\n",
      "Try using .loc[row_indexer,col_indexer] = value instead\n",
      "\n",
      "See the caveats in the documentation: http://pandas.pydata.org/pandas-docs/stable/indexing.html#indexing-view-versus-copy\n",
      "C:\\Python27\\lib\\site-packages\\ipykernel_launcher.py:33: SettingWithCopyWarning: \n",
      "A value is trying to be set on a copy of a slice from a DataFrame.\n",
      "Try using .loc[row_indexer,col_indexer] = value instead\n",
      "\n",
      "See the caveats in the documentation: http://pandas.pydata.org/pandas-docs/stable/indexing.html#indexing-view-versus-copy\n",
      "C:\\Python27\\lib\\site-packages\\ipykernel_launcher.py:34: SettingWithCopyWarning: \n",
      "A value is trying to be set on a copy of a slice from a DataFrame.\n",
      "Try using .loc[row_indexer,col_indexer] = value instead\n",
      "\n",
      "See the caveats in the documentation: http://pandas.pydata.org/pandas-docs/stable/indexing.html#indexing-view-versus-copy\n",
      "C:\\Python27\\lib\\site-packages\\ipykernel_launcher.py:35: SettingWithCopyWarning: \n",
      "A value is trying to be set on a copy of a slice from a DataFrame.\n",
      "Try using .loc[row_indexer,col_indexer] = value instead\n",
      "\n",
      "See the caveats in the documentation: http://pandas.pydata.org/pandas-docs/stable/indexing.html#indexing-view-versus-copy\n",
      "C:\\Python27\\lib\\site-packages\\ipykernel_launcher.py:36: SettingWithCopyWarning: \n",
      "A value is trying to be set on a copy of a slice from a DataFrame.\n",
      "Try using .loc[row_indexer,col_indexer] = value instead\n",
      "\n",
      "See the caveats in the documentation: http://pandas.pydata.org/pandas-docs/stable/indexing.html#indexing-view-versus-copy\n",
      "C:\\Python27\\lib\\site-packages\\ipykernel_launcher.py:37: SettingWithCopyWarning: \n",
      "A value is trying to be set on a copy of a slice from a DataFrame.\n",
      "Try using .loc[row_indexer,col_indexer] = value instead\n",
      "\n",
      "See the caveats in the documentation: http://pandas.pydata.org/pandas-docs/stable/indexing.html#indexing-view-versus-copy\n",
      "C:\\Python27\\lib\\site-packages\\ipykernel_launcher.py:38: SettingWithCopyWarning: \n",
      "A value is trying to be set on a copy of a slice from a DataFrame.\n",
      "Try using .loc[row_indexer,col_indexer] = value instead\n",
      "\n",
      "See the caveats in the documentation: http://pandas.pydata.org/pandas-docs/stable/indexing.html#indexing-view-versus-copy\n",
      "C:\\Python27\\lib\\site-packages\\ipykernel_launcher.py:39: SettingWithCopyWarning: \n",
      "A value is trying to be set on a copy of a slice from a DataFrame.\n",
      "Try using .loc[row_indexer,col_indexer] = value instead\n",
      "\n",
      "See the caveats in the documentation: http://pandas.pydata.org/pandas-docs/stable/indexing.html#indexing-view-versus-copy\n",
      "C:\\Python27\\lib\\site-packages\\ipykernel_launcher.py:40: SettingWithCopyWarning: \n",
      "A value is trying to be set on a copy of a slice from a DataFrame.\n",
      "Try using .loc[row_indexer,col_indexer] = value instead\n",
      "\n",
      "See the caveats in the documentation: http://pandas.pydata.org/pandas-docs/stable/indexing.html#indexing-view-versus-copy\n",
      "C:\\Python27\\lib\\site-packages\\ipykernel_launcher.py:41: SettingWithCopyWarning: \n",
      "A value is trying to be set on a copy of a slice from a DataFrame.\n",
      "Try using .loc[row_indexer,col_indexer] = value instead\n",
      "\n",
      "See the caveats in the documentation: http://pandas.pydata.org/pandas-docs/stable/indexing.html#indexing-view-versus-copy\n",
      "C:\\Python27\\lib\\site-packages\\ipykernel_launcher.py:42: SettingWithCopyWarning: \n",
      "A value is trying to be set on a copy of a slice from a DataFrame.\n",
      "Try using .loc[row_indexer,col_indexer] = value instead\n",
      "\n",
      "See the caveats in the documentation: http://pandas.pydata.org/pandas-docs/stable/indexing.html#indexing-view-versus-copy\n",
      "C:\\Python27\\lib\\site-packages\\ipykernel_launcher.py:43: SettingWithCopyWarning: \n",
      "A value is trying to be set on a copy of a slice from a DataFrame.\n",
      "Try using .loc[row_indexer,col_indexer] = value instead\n",
      "\n",
      "See the caveats in the documentation: http://pandas.pydata.org/pandas-docs/stable/indexing.html#indexing-view-versus-copy\n",
      "C:\\Python27\\lib\\site-packages\\ipykernel_launcher.py:44: SettingWithCopyWarning: \n",
      "A value is trying to be set on a copy of a slice from a DataFrame.\n",
      "Try using .loc[row_indexer,col_indexer] = value instead\n",
      "\n",
      "See the caveats in the documentation: http://pandas.pydata.org/pandas-docs/stable/indexing.html#indexing-view-versus-copy\n"
     ]
    }
   ],
   "source": [
    "Dog['Breed'] = Dog['Breed'].replace('Pit Bull', 'Bull Terrier')\n",
    "Dog['Breed'] = Dog['Breed'].replace('German Shepherd', 'German Shepherd Dog')\n",
    "Dog['Breed'] = Dog['Breed'].replace('Anatol Shepherd', 'Anatolian Shepherd Dog')\n",
    "Dog['Breed'] = Dog['Breed'].replace('Catahoula', 'Catahoula Cur')\n",
    "Dog['Breed'] = Dog['Breed'].replace('Staffordshire', 'American Staffordshire Terrier')\n",
    "Dog['Breed'] = Dog['Breed'].replace('Doberman Pinsch', 'Doberman Pinscher')\n",
    "Dog['Breed'] = Dog['Breed'].replace('Queensland Heeler', 'Australian Cattle Dog')\n",
    "Dog['Breed'] = Dog['Breed'].replace('Flat Coat Retriever', 'Flat-Coated Retriever')\n",
    "Dog['Breed'] = Dog['Breed'].replace('Chinese Sharpei', 'Chinese Shar Pei')\n",
    "Dog['Breed'] = Dog['Breed'].replace('Rhod Ridgeback', 'Rhodesian Ridgeback')\n",
    "Dog['Breed'] = Dog['Breed'].replace('Soft Coated Wheaten Terrier', 'Soft-Coated Wheaten Terrier')\n",
    "Dog['Breed'] = Dog['Breed'].replace('Bruss Griffon', 'Brussels Griffon')\n",
    "Dog['Breed'] = Dog['Breed'].replace('Redbone Hound', 'Redbone Coonhound')\n",
    "Dog['Breed'] = Dog['Breed'].replace('West Highland', 'West Highland White Terrier')\n",
    "Dog['Breed'] = Dog['Breed'].replace('Wire Hair Fox Terrier', 'Wire Fox Terrier')\n",
    "Dog['Breed'] = Dog['Breed'].replace('Dogo Argentino', 'Mastiff')\n",
    "Dog['Breed'] = Dog['Breed'].replace('Alaskan Husky', 'Alaskan Malamute')\n",
    "Dog['Breed'] = Dog['Breed'].replace('Pbgv', 'Petit Basset Griffon Vendeen')\n",
    "Dog['Breed'] = Dog['Breed'].replace('Chesa Bay Retr', 'Chesapeake Bay Retriever')\n",
    "Dog['Breed'] = Dog['Breed'].replace('Cavalier Span', 'Cavalier King Charles Spaniel')\n",
    "Dog['Breed'] = Dog['Breed'].replace('Dutch Shepherd', 'Dutch Shepherd Dog')\n",
    "Dog['Breed'] = Dog['Breed'].replace('English Coonhound', 'American English Coonhound')\n",
    "Dog['Breed'] = Dog['Breed'].replace('American Eskimo', 'American Eskimo Dog')\n",
    "Dog['Breed'] = Dog['Breed'].replace('Bluetick Hound', 'Bluetick Coonhound')\n",
    "Dog['Breed'] = Dog['Breed'].replace('Patterdale Terr', 'Patterdale Terrier')\n",
    "Dog['Breed'] = Dog['Breed'].replace('Chinese Crested', 'Chinese Crested Dog')\n",
    "Dog['Breed'] = Dog['Breed'].replace('Podengo Pequeno', 'Portuguese Podengo Pequeno')\n",
    "Dog['Breed'] = Dog['Breed'].replace('Dogue De Bordeaux', 'Dogue de Bordeaux')\n",
    "Dog['Breed'] = Dog['Breed'].replace('Boykin Span', 'Boykin Spaniel')\n",
    "Dog['Breed'] = Dog['Breed'].replace('Landseer', 'Newfoundland')\n",
    "Dog['Breed'] = Dog['Breed'].replace('Schnauzer Giant', 'Giant Schnauzer')\n",
    "Dog['Breed'] = Dog['Breed'].replace('Glen Of Imaal', 'Glen of Imaal Terrier')\n",
    "Dog['Breed'] = Dog['Breed'].replace('Treeing Cur', 'Treeing Walker Coonhound')\n",
    "Dog['Breed'] = Dog['Breed'].replace('Bedlington Terr', 'Bedlington Terrier')\n",
    "Dog['Breed'] = Dog['Breed'].replace('Picardy Sheepdog', 'Berger Picard')\n",
    "Dog['Breed'] = Dog['Breed'].replace('Presa Canario', 'Mastiff')\n",
    "Dog['Breed'] = Dog['Breed'].replace('Nova Scotia Duck Tolling Retriever', 'Nova Scotia Duck-Tolling Retriever')\n",
    "Dog['Breed'] = Dog['Breed'].replace('Port Water Dog', 'Portuguese Water Dog')\n",
    "Dog['Breed'] = Dog['Breed'].replace('Mexican Hairless', 'American Hairless Terrier')\n",
    "Dog['Breed'] = Dog['Breed'].replace('Treeing Tennesse Brindle', 'Treeing Walker Coonhound')\n",
    "Dog['Breed'] = Dog['Breed'].replace('Entlebucher', 'Entlebucher Mountain Dog')\n",
    "Dog['Breed'] = Dog['Breed'].replace('Sealyham Terr', 'Sealyham Terrier')\n",
    "Dog['Breed'] = Dog['Breed'].replace('Black', 'Black and Tan Coonhound')\n",
    "Dog['Breed'] = Dog['Breed'].replace('Unknown', 'Chihuahua Shorthair')"
   ]
  },
  {
   "cell_type": "code",
   "execution_count": 40,
   "metadata": {
    "collapsed": true
   },
   "outputs": [],
   "source": [
    "def AKC(x):\n",
    "    Breed = pd.read_csv('data/breed.csv')\n",
    "    t_list = []\n",
    "    for j in range(0, len(Breed['Breed'])): \n",
    "        if Breed['Breed'][j] in x:\n",
    "            t_list.append(Breed['Type'][j])\n",
    "    if t_list:\n",
    "        x = t_list[0]\n",
    "        return x\n",
    "    else:\n",
    "        x = 'None'\n",
    "        return x"
   ]
  },
  {
   "cell_type": "code",
   "execution_count": 41,
   "metadata": {},
   "outputs": [
    {
     "name": "stderr",
     "output_type": "stream",
     "text": [
      "C:\\Python27\\lib\\site-packages\\ipykernel_launcher.py:1: SettingWithCopyWarning: \n",
      "A value is trying to be set on a copy of a slice from a DataFrame.\n",
      "Try using .loc[row_indexer,col_indexer] = value instead\n",
      "\n",
      "See the caveats in the documentation: http://pandas.pydata.org/pandas-docs/stable/indexing.html#indexing-view-versus-copy\n",
      "  \"\"\"Entry point for launching an IPython kernel.\n"
     ]
    }
   ],
   "source": [
    "Dog['AKC'] = Dog['Breed'].apply(AKC)"
   ]
  },
  {
   "cell_type": "code",
   "execution_count": 42,
   "metadata": {},
   "outputs": [
    {
     "data": {
      "text/html": [
       "<div>\n",
       "<style>\n",
       "    .dataframe thead tr:only-child th {\n",
       "        text-align: right;\n",
       "    }\n",
       "\n",
       "    .dataframe thead th {\n",
       "        text-align: left;\n",
       "    }\n",
       "\n",
       "    .dataframe tbody tr th {\n",
       "        vertical-align: top;\n",
       "    }\n",
       "</style>\n",
       "<table border=\"1\" class=\"dataframe\">\n",
       "  <thead>\n",
       "    <tr style=\"text-align: right;\">\n",
       "      <th></th>\n",
       "      <th>AnimalID</th>\n",
       "      <th>Name</th>\n",
       "      <th>DateTime</th>\n",
       "      <th>OutcomeType</th>\n",
       "      <th>OutcomeSubtype</th>\n",
       "      <th>AnimalType</th>\n",
       "      <th>SexuponOutcome</th>\n",
       "      <th>AgeuponOutcome</th>\n",
       "      <th>Breed</th>\n",
       "      <th>Color</th>\n",
       "      <th>Type</th>\n",
       "      <th>AKC</th>\n",
       "    </tr>\n",
       "  </thead>\n",
       "  <tbody>\n",
       "    <tr>\n",
       "      <th>0</th>\n",
       "      <td>A671945</td>\n",
       "      <td>Named</td>\n",
       "      <td>2014-02-12 18:22:00</td>\n",
       "      <td>Return_to_owner</td>\n",
       "      <td>None</td>\n",
       "      <td>Dog</td>\n",
       "      <td>Neutered Male</td>\n",
       "      <td>365</td>\n",
       "      <td>Shetland Sheepdog</td>\n",
       "      <td>Brown/White</td>\n",
       "      <td>Mix</td>\n",
       "      <td>Herding</td>\n",
       "    </tr>\n",
       "    <tr>\n",
       "      <th>2</th>\n",
       "      <td>A686464</td>\n",
       "      <td>Named</td>\n",
       "      <td>2015-01-31 12:28:00</td>\n",
       "      <td>Adoption</td>\n",
       "      <td>Foster</td>\n",
       "      <td>Dog</td>\n",
       "      <td>Neutered Male</td>\n",
       "      <td>730</td>\n",
       "      <td>Bull Terrier</td>\n",
       "      <td>Blue/White</td>\n",
       "      <td>Mix</td>\n",
       "      <td>Terrier</td>\n",
       "    </tr>\n",
       "    <tr>\n",
       "      <th>4</th>\n",
       "      <td>A667013</td>\n",
       "      <td>Unnamed</td>\n",
       "      <td>2013-11-15 12:52:00</td>\n",
       "      <td>Transfer</td>\n",
       "      <td>Partner</td>\n",
       "      <td>Dog</td>\n",
       "      <td>Neutered Male</td>\n",
       "      <td>730</td>\n",
       "      <td>Lhasa Apso</td>\n",
       "      <td>Tan</td>\n",
       "      <td>Mix</td>\n",
       "      <td>Non-Sporting</td>\n",
       "    </tr>\n",
       "    <tr>\n",
       "      <th>5</th>\n",
       "      <td>A677334</td>\n",
       "      <td>Named</td>\n",
       "      <td>2014-04-25 13:04:00</td>\n",
       "      <td>Transfer</td>\n",
       "      <td>Partner</td>\n",
       "      <td>Dog</td>\n",
       "      <td>Intact Female</td>\n",
       "      <td>30</td>\n",
       "      <td>Cairn Terrier</td>\n",
       "      <td>Black/Tan</td>\n",
       "      <td>Mix</td>\n",
       "      <td>Terrier</td>\n",
       "    </tr>\n",
       "    <tr>\n",
       "      <th>8</th>\n",
       "      <td>A671784</td>\n",
       "      <td>Named</td>\n",
       "      <td>2014-02-04 17:17:00</td>\n",
       "      <td>Adoption</td>\n",
       "      <td>None</td>\n",
       "      <td>Dog</td>\n",
       "      <td>Spayed Female</td>\n",
       "      <td>150</td>\n",
       "      <td>American Pit Bull Terrier</td>\n",
       "      <td>Red/White</td>\n",
       "      <td>Mix</td>\n",
       "      <td>Terrier</td>\n",
       "    </tr>\n",
       "  </tbody>\n",
       "</table>\n",
       "</div>"
      ],
      "text/plain": [
       "  AnimalID     Name             DateTime      OutcomeType OutcomeSubtype  \\\n",
       "0  A671945    Named  2014-02-12 18:22:00  Return_to_owner           None   \n",
       "2  A686464    Named  2015-01-31 12:28:00         Adoption         Foster   \n",
       "4  A667013  Unnamed  2013-11-15 12:52:00         Transfer        Partner   \n",
       "5  A677334    Named  2014-04-25 13:04:00         Transfer        Partner   \n",
       "8  A671784    Named  2014-02-04 17:17:00         Adoption           None   \n",
       "\n",
       "  AnimalType SexuponOutcome  AgeuponOutcome                      Breed  \\\n",
       "0        Dog  Neutered Male             365          Shetland Sheepdog   \n",
       "2        Dog  Neutered Male             730               Bull Terrier   \n",
       "4        Dog  Neutered Male             730                 Lhasa Apso   \n",
       "5        Dog  Intact Female              30              Cairn Terrier   \n",
       "8        Dog  Spayed Female             150  American Pit Bull Terrier   \n",
       "\n",
       "         Color Type           AKC  \n",
       "0  Brown/White  Mix       Herding  \n",
       "2   Blue/White  Mix       Terrier  \n",
       "4          Tan  Mix  Non-Sporting  \n",
       "5    Black/Tan  Mix       Terrier  \n",
       "8    Red/White  Mix       Terrier  "
      ]
     },
     "execution_count": 42,
     "metadata": {},
     "output_type": "execute_result"
    }
   ],
   "source": [
    "Dog.head()"
   ]
  },
  {
   "cell_type": "code",
   "execution_count": 43,
   "metadata": {},
   "outputs": [
    {
     "data": {
      "text/plain": [
       "Terrier         3621\n",
       "Toy             3234\n",
       "Herding         2542\n",
       "Sporting        2433\n",
       "Working         1505\n",
       "Hound           1298\n",
       "Non-Sporting     962\n",
       "Name: AKC, dtype: int64"
      ]
     },
     "execution_count": 43,
     "metadata": {},
     "output_type": "execute_result"
    }
   ],
   "source": [
    "Dog['AKC'].value_counts()"
   ]
  },
  {
   "cell_type": "markdown",
   "metadata": {},
   "source": [
    "### Data Store\n",
    "* 전처리를 반복하는 과정에서 시간이 많이 소모되므로, 바로 불러낼 수 있도록 처리"
   ]
  },
  {
   "cell_type": "code",
   "execution_count": 44,
   "metadata": {
    "collapsed": true
   },
   "outputs": [],
   "source": [
    "import pickle"
   ]
  },
  {
   "cell_type": "code",
   "execution_count": 46,
   "metadata": {
    "collapsed": true
   },
   "outputs": [],
   "source": [
    "df.to_pickle('data/main.pkl')\n",
    "Dog.to_pickle('data/Dog.pkl')\n",
    "Cat.to_pickle('data/Cat.pkl')"
   ]
  }
 ],
 "metadata": {
  "kernelspec": {
   "display_name": "Python 2",
   "language": "python",
   "name": "python2"
  },
  "language_info": {
   "codemirror_mode": {
    "name": "ipython",
    "version": 2
   },
   "file_extension": ".py",
   "mimetype": "text/x-python",
   "name": "python",
   "nbconvert_exporter": "python",
   "pygments_lexer": "ipython2",
   "version": "2.7.13"
  }
 },
 "nbformat": 4,
 "nbformat_minor": 2
}
